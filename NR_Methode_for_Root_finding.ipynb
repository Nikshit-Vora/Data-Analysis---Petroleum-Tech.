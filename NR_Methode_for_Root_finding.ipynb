{
  "nbformat": 4,
  "nbformat_minor": 0,
  "metadata": {
    "colab": {
      "name": "NR_Methode_for_Root_finding.ipynb",
      "provenance": [],
      "authorship_tag": "ABX9TyPetXAierJ/tGexYqkAXNJf",
      "include_colab_link": true
    },
    "kernelspec": {
      "name": "python3",
      "display_name": "Python 3"
    },
    "language_info": {
      "name": "python"
    }
  },
  "cells": [
    {
      "cell_type": "markdown",
      "metadata": {
        "id": "view-in-github",
        "colab_type": "text"
      },
      "source": [
        "<a href=\"https://colab.research.google.com/github/Nikshit-Vora/Data-Analysis---Petroleum-Tech./blob/main/NR_Methode_for_Root_finding.ipynb\" target=\"_parent\"><img src=\"https://colab.research.google.com/assets/colab-badge.svg\" alt=\"Open In Colab\"/></a>"
      ]
    },
    {
      "cell_type": "code",
      "metadata": {
        "colab": {
          "base_uri": "https://localhost:8080/"
        },
        "id": "lizSWXQIOj8B",
        "outputId": "8af5e308-dbc7-4836-a2a6-2d28c4d25592"
      },
      "source": [
        "#N-R methode for finding a root of the number:\n",
        "\n",
        "n=float(input(\"enter the number:\"))\n",
        "x=float(input(\"initial Guess:\"))\n",
        "a=float(input(\"accuracy level:\"))\n",
        "\n",
        "# N-R formula\n",
        "# x(n+1) = x(n) - f(x)/f'(x)\n",
        "\n",
        "while abs(x**2 - n) > a:\n",
        "  x = x - ((x**2 - n)/(2*x))\n",
        "\n",
        "print(f\"root of {n} is {x}\")\n"
      ],
      "execution_count": null,
      "outputs": [
        {
          "output_type": "stream",
          "text": [
            "enter the number:22445\n",
            "initial Guess:12\n",
            "accuracy level:0.00001\n",
            "root of 22445.0 is 149.81655449248592\n"
          ],
          "name": "stdout"
        }
      ]
    },
    {
      "cell_type": "code",
      "metadata": {
        "id": "tiVHId07VNSb"
      },
      "source": [
        ""
      ],
      "execution_count": null,
      "outputs": []
    }
  ]
}