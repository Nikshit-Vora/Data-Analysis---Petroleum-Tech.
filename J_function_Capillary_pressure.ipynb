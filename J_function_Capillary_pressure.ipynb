{
  "nbformat": 4,
  "nbformat_minor": 0,
  "metadata": {
    "colab": {
      "name": "J_function_Capillary_pressure.ipynb",
      "provenance": [],
      "collapsed_sections": [],
      "authorship_tag": "ABX9TyMr0nTUb7V0G8nuz3LJ8ENo",
      "include_colab_link": true
    },
    "kernelspec": {
      "name": "python3",
      "display_name": "Python 3"
    },
    "language_info": {
      "name": "python"
    }
  },
  "cells": [
    {
      "cell_type": "markdown",
      "metadata": {
        "id": "view-in-github",
        "colab_type": "text"
      },
      "source": [
        "<a href=\"https://colab.research.google.com/github/Nikshit-Vora/Data-Analysis---Petroleum-Tech./blob/main/J_function_Capillary_pressure.ipynb\" target=\"_parent\"><img src=\"https://colab.research.google.com/assets/colab-badge.svg\" alt=\"Open In Colab\"/></a>"
      ]
    },
    {
      "cell_type": "code",
      "metadata": {
        "id": "rNXdj7IXdm-I"
      },
      "source": [
        "import numpy as np\n",
        "import pandas as pd\n",
        "import matplotlib.pyplot as plt"
      ],
      "execution_count": 1,
      "outputs": []
    },
    {
      "cell_type": "markdown",
      "metadata": {
        "id": "mjHbFU7yfBlV"
      },
      "source": [
        "J function = 0.21645*(pc/sigma)*((k/phi)**0.5)\n",
        "                                                                                 \n",
        "pc    = capillary pressure (psi)                 \n",
        "      sigma = interfacial tension (dyne/cm)                                    \n",
        "      k     = permeability (md)                                                \n",
        "      phi   = porosity (fraction)  "
      ]
    },
    {
      "cell_type": "code",
      "metadata": {
        "id": "IC9_FKCVe_aH"
      },
      "source": [
        "# intially graph is plotted between laboratory capillary pressure and water saturation\n",
        "\n",
        "# Data\n",
        "\n",
        "sw     = [1,0.8,0.6,0.4,0.25,0.23,0.21,0.20]\n",
        "Pc_lab = [0.5,0.6,0.75,1.05,1.50,1.75,3.0,8.0]"
      ],
      "execution_count": 2,
      "outputs": []
    },
    {
      "cell_type": "code",
      "metadata": {
        "colab": {
          "base_uri": "https://localhost:8080/",
          "height": 283
        },
        "id": "WW0nueCfhEMY",
        "outputId": "a1758011-7d78-4be5-bac3-498ae415a513"
      },
      "source": [
        "tbl_data = pd.DataFrame({'sw':sw,'CP_lab':Pc_lab})\n",
        "tbl_data"
      ],
      "execution_count": 4,
      "outputs": [
        {
          "output_type": "execute_result",
          "data": {
            "text/html": [
              "<div>\n",
              "<style scoped>\n",
              "    .dataframe tbody tr th:only-of-type {\n",
              "        vertical-align: middle;\n",
              "    }\n",
              "\n",
              "    .dataframe tbody tr th {\n",
              "        vertical-align: top;\n",
              "    }\n",
              "\n",
              "    .dataframe thead th {\n",
              "        text-align: right;\n",
              "    }\n",
              "</style>\n",
              "<table border=\"1\" class=\"dataframe\">\n",
              "  <thead>\n",
              "    <tr style=\"text-align: right;\">\n",
              "      <th></th>\n",
              "      <th>sw</th>\n",
              "      <th>CP_lab</th>\n",
              "    </tr>\n",
              "  </thead>\n",
              "  <tbody>\n",
              "    <tr>\n",
              "      <th>0</th>\n",
              "      <td>1.00</td>\n",
              "      <td>0.50</td>\n",
              "    </tr>\n",
              "    <tr>\n",
              "      <th>1</th>\n",
              "      <td>0.80</td>\n",
              "      <td>0.60</td>\n",
              "    </tr>\n",
              "    <tr>\n",
              "      <th>2</th>\n",
              "      <td>0.60</td>\n",
              "      <td>0.75</td>\n",
              "    </tr>\n",
              "    <tr>\n",
              "      <th>3</th>\n",
              "      <td>0.40</td>\n",
              "      <td>1.05</td>\n",
              "    </tr>\n",
              "    <tr>\n",
              "      <th>4</th>\n",
              "      <td>0.25</td>\n",
              "      <td>1.50</td>\n",
              "    </tr>\n",
              "    <tr>\n",
              "      <th>5</th>\n",
              "      <td>0.23</td>\n",
              "      <td>1.75</td>\n",
              "    </tr>\n",
              "    <tr>\n",
              "      <th>6</th>\n",
              "      <td>0.21</td>\n",
              "      <td>3.00</td>\n",
              "    </tr>\n",
              "    <tr>\n",
              "      <th>7</th>\n",
              "      <td>0.20</td>\n",
              "      <td>8.00</td>\n",
              "    </tr>\n",
              "  </tbody>\n",
              "</table>\n",
              "</div>"
            ],
            "text/plain": [
              "     sw  CP_lab\n",
              "0  1.00    0.50\n",
              "1  0.80    0.60\n",
              "2  0.60    0.75\n",
              "3  0.40    1.05\n",
              "4  0.25    1.50\n",
              "5  0.23    1.75\n",
              "6  0.21    3.00\n",
              "7  0.20    8.00"
            ]
          },
          "metadata": {
            "tags": []
          },
          "execution_count": 4
        }
      ]
    },
    {
      "cell_type": "code",
      "metadata": {
        "colab": {
          "base_uri": "https://localhost:8080/",
          "height": 409
        },
        "id": "dQA6ilLShbsY",
        "outputId": "22694db5-5161-43cf-a602-7ea0ada9e6f9"
      },
      "source": [
        "plt.style.use(\"default\")\n",
        "plt.figure(figsize=(8,4))\n",
        "\n",
        "plt.plot(sw,Pc_lab, label=\"Pc vs sw\", color='Red', linewidth=2, marker='*',ms=10, mec=\"black\", mfc='Blue')\n",
        "\n",
        "plt.xlabel(\"sw\")\n",
        "plt.ylabel(\"Pc\")\n",
        "plt.title(\"Laboratory Pressure - Saturation Data\")\n",
        "plt.legend()\n",
        "plt.grid()\n",
        "\n",
        "plt.show()"
      ],
      "execution_count": 20,
      "outputs": [
        {
          "output_type": "display_data",
          "data": {
            "image/png": "[encoded data removed]",
            "text/plain": [
              "<Figure size 800x400 with 1 Axes>"
            ]
          },
          "metadata": {
            "tags": []
          }
        }
      ]
    },
    {
      "cell_type": "markdown",
      "metadata": {
        "id": "Vhke0QAvkGAO"
      },
      "source": [
        "now we will calculate the j function"
      ]
    },
    {
      "cell_type": "code",
      "metadata": {
        "id": "sDP9JwkQhuIf"
      },
      "source": [
        "# constant parameter\n",
        "\n",
        "sigma_lab = 50 \n",
        "k_lab = 80\n",
        "phi_lab = 0.16"
      ],
      "execution_count": 48,
      "outputs": []
    },
    {
      "cell_type": "code",
      "metadata": {
        "id": "47M1XFDqkmaO"
      },
      "source": [
        "J = 0.21645*(tbl_data['CP_lab']/sigma_lab)*((k_lab/phi_lab)**0.5)"
      ],
      "execution_count": 49,
      "outputs": []
    },
    {
      "cell_type": "code",
      "metadata": {
        "id": "ti_o4qftlr8O"
      },
      "source": [
        "New_tbl={'sw':sw, 'lab_Pressure':Pc_lab,\"J_fun\":J}"
      ],
      "execution_count": 50,
      "outputs": []
    },
    {
      "cell_type": "code",
      "metadata": {
        "colab": {
          "base_uri": "https://localhost:8080/",
          "height": 283
        },
        "id": "XPHy0v82oAMm",
        "outputId": "d7c8c65c-a4b6-42b0-a270-2f9801ff21bb"
      },
      "source": [
        "pd.DataFrame(New_tbl)"
      ],
      "execution_count": 51,
      "outputs": [
        {
          "output_type": "execute_result",
          "data": {
            "text/html": [
              "<div>\n",
              "<style scoped>\n",
              "    .dataframe tbody tr th:only-of-type {\n",
              "        vertical-align: middle;\n",
              "    }\n",
              "\n",
              "    .dataframe tbody tr th {\n",
              "        vertical-align: top;\n",
              "    }\n",
              "\n",
              "    .dataframe thead th {\n",
              "        text-align: right;\n",
              "    }\n",
              "</style>\n",
              "<table border=\"1\" class=\"dataframe\">\n",
              "  <thead>\n",
              "    <tr style=\"text-align: right;\">\n",
              "      <th></th>\n",
              "      <th>sw</th>\n",
              "      <th>lab_Pressure</th>\n",
              "      <th>J_fun</th>\n",
              "    </tr>\n",
              "  </thead>\n",
              "  <tbody>\n",
              "    <tr>\n",
              "      <th>0</th>\n",
              "      <td>1.00</td>\n",
              "      <td>0.50</td>\n",
              "      <td>0.048400</td>\n",
              "    </tr>\n",
              "    <tr>\n",
              "      <th>1</th>\n",
              "      <td>0.80</td>\n",
              "      <td>0.60</td>\n",
              "      <td>0.058080</td>\n",
              "    </tr>\n",
              "    <tr>\n",
              "      <th>2</th>\n",
              "      <td>0.60</td>\n",
              "      <td>0.75</td>\n",
              "      <td>0.072600</td>\n",
              "    </tr>\n",
              "    <tr>\n",
              "      <th>3</th>\n",
              "      <td>0.40</td>\n",
              "      <td>1.05</td>\n",
              "      <td>0.101639</td>\n",
              "    </tr>\n",
              "    <tr>\n",
              "      <th>4</th>\n",
              "      <td>0.25</td>\n",
              "      <td>1.50</td>\n",
              "      <td>0.145199</td>\n",
              "    </tr>\n",
              "    <tr>\n",
              "      <th>5</th>\n",
              "      <td>0.23</td>\n",
              "      <td>1.75</td>\n",
              "      <td>0.169399</td>\n",
              "    </tr>\n",
              "    <tr>\n",
              "      <th>6</th>\n",
              "      <td>0.21</td>\n",
              "      <td>3.00</td>\n",
              "      <td>0.290398</td>\n",
              "    </tr>\n",
              "    <tr>\n",
              "      <th>7</th>\n",
              "      <td>0.20</td>\n",
              "      <td>8.00</td>\n",
              "      <td>0.774395</td>\n",
              "    </tr>\n",
              "  </tbody>\n",
              "</table>\n",
              "</div>"
            ],
            "text/plain": [
              "     sw  lab_Pressure     J_fun\n",
              "0  1.00          0.50  0.048400\n",
              "1  0.80          0.60  0.058080\n",
              "2  0.60          0.75  0.072600\n",
              "3  0.40          1.05  0.101639\n",
              "4  0.25          1.50  0.145199\n",
              "5  0.23          1.75  0.169399\n",
              "6  0.21          3.00  0.290398\n",
              "7  0.20          8.00  0.774395"
            ]
          },
          "metadata": {
            "tags": []
          },
          "execution_count": 51
        }
      ]
    },
    {
      "cell_type": "markdown",
      "metadata": {
        "id": "XXIoQVTNqbpw"
      },
      "source": [
        "calculate reservoir pressure using j function and reservoir sigma value"
      ]
    },
    {
      "cell_type": "code",
      "metadata": {
        "id": "dhC_obHEp8yL"
      },
      "source": [
        "sigma_reservoir = 40"
      ],
      "execution_count": 68,
      "outputs": []
    },
    {
      "cell_type": "code",
      "metadata": {
        "id": "T63AJDT9o8A1"
      },
      "source": [
        "New_tbl[\"Reservoir_p\"] = (New_tbl['J_fun']*sigma_reservoir)/(0.21645*((k_lab/phi_lab)**0.5)) "
      ],
      "execution_count": 69,
      "outputs": []
    },
    {
      "cell_type": "code",
      "metadata": {
        "colab": {
          "base_uri": "https://localhost:8080/",
          "height": 283
        },
        "id": "kgx6FoL_qFkb",
        "outputId": "74ffeec3-621b-40af-9e13-d6c9b8bb4c63"
      },
      "source": [
        "pd.DataFrame(New_tbl)"
      ],
      "execution_count": 70,
      "outputs": [
        {
          "output_type": "execute_result",
          "data": {
            "text/html": [
              "<div>\n",
              "<style scoped>\n",
              "    .dataframe tbody tr th:only-of-type {\n",
              "        vertical-align: middle;\n",
              "    }\n",
              "\n",
              "    .dataframe tbody tr th {\n",
              "        vertical-align: top;\n",
              "    }\n",
              "\n",
              "    .dataframe thead th {\n",
              "        text-align: right;\n",
              "    }\n",
              "</style>\n",
              "<table border=\"1\" class=\"dataframe\">\n",
              "  <thead>\n",
              "    <tr style=\"text-align: right;\">\n",
              "      <th></th>\n",
              "      <th>sw</th>\n",
              "      <th>lab_Pressure</th>\n",
              "      <th>J_fun</th>\n",
              "      <th>Reservoir_p</th>\n",
              "    </tr>\n",
              "  </thead>\n",
              "  <tbody>\n",
              "    <tr>\n",
              "      <th>0</th>\n",
              "      <td>1.00</td>\n",
              "      <td>0.50</td>\n",
              "      <td>0.048400</td>\n",
              "      <td>0.40</td>\n",
              "    </tr>\n",
              "    <tr>\n",
              "      <th>1</th>\n",
              "      <td>0.80</td>\n",
              "      <td>0.60</td>\n",
              "      <td>0.058080</td>\n",
              "      <td>0.48</td>\n",
              "    </tr>\n",
              "    <tr>\n",
              "      <th>2</th>\n",
              "      <td>0.60</td>\n",
              "      <td>0.75</td>\n",
              "      <td>0.072600</td>\n",
              "      <td>0.60</td>\n",
              "    </tr>\n",
              "    <tr>\n",
              "      <th>3</th>\n",
              "      <td>0.40</td>\n",
              "      <td>1.05</td>\n",
              "      <td>0.101639</td>\n",
              "      <td>0.84</td>\n",
              "    </tr>\n",
              "    <tr>\n",
              "      <th>4</th>\n",
              "      <td>0.25</td>\n",
              "      <td>1.50</td>\n",
              "      <td>0.145199</td>\n",
              "      <td>1.20</td>\n",
              "    </tr>\n",
              "    <tr>\n",
              "      <th>5</th>\n",
              "      <td>0.23</td>\n",
              "      <td>1.75</td>\n",
              "      <td>0.169399</td>\n",
              "      <td>1.40</td>\n",
              "    </tr>\n",
              "    <tr>\n",
              "      <th>6</th>\n",
              "      <td>0.21</td>\n",
              "      <td>3.00</td>\n",
              "      <td>0.290398</td>\n",
              "      <td>2.40</td>\n",
              "    </tr>\n",
              "    <tr>\n",
              "      <th>7</th>\n",
              "      <td>0.20</td>\n",
              "      <td>8.00</td>\n",
              "      <td>0.774395</td>\n",
              "      <td>6.40</td>\n",
              "    </tr>\n",
              "  </tbody>\n",
              "</table>\n",
              "</div>"
            ],
            "text/plain": [
              "     sw  lab_Pressure     J_fun  Reservoir_p\n",
              "0  1.00          0.50  0.048400         0.40\n",
              "1  0.80          0.60  0.058080         0.48\n",
              "2  0.60          0.75  0.072600         0.60\n",
              "3  0.40          1.05  0.101639         0.84\n",
              "4  0.25          1.50  0.145199         1.20\n",
              "5  0.23          1.75  0.169399         1.40\n",
              "6  0.21          3.00  0.290398         2.40\n",
              "7  0.20          8.00  0.774395         6.40"
            ]
          },
          "metadata": {
            "tags": []
          },
          "execution_count": 70
        }
      ]
    },
    {
      "cell_type": "code",
      "metadata": {
        "colab": {
          "base_uri": "https://localhost:8080/",
          "height": 564
        },
        "id": "RpO9BzNXqNyV",
        "outputId": "d2b271f8-4553-4df7-bcb0-6e874584fb30"
      },
      "source": [
        "plt.style.use('default')\n",
        "\n",
        "plt.figure(figsize=(12,6))\n",
        "\n",
        "plt.plot(sw,Pc_lab,label=\"Lab pressure data\",marker='*', mec='black')\n",
        "plt.plot(sw,New_tbl['Reservoir_p'], label=\"Reservoir data\", marker='H',mec='yellow')\n",
        "\n",
        "plt.xlabel(\"sw (Fraction)\")\n",
        "plt.ylabel(\"pressure (Psi)\")\n",
        "plt.title(\"J - function\")\n",
        "plt.legend()\n",
        "plt.grid()\n",
        "\n",
        "plt.show()"
      ],
      "execution_count": 77,
      "outputs": [
        {
          "output_type": "display_data",
          "data": {
            "image/png": "[encoded data removed]",
            "text/plain": [
              "<Figure size 1200x600 with 1 Axes>"
            ]
          },
          "metadata": {
            "tags": []
          }
        }
      ]
    },
    {
      "cell_type": "code",
      "metadata": {
        "id": "fYjJocdFqrxY"
      },
      "source": [
        ""
      ],
      "execution_count": null,
      "outputs": []
    }
  ]
}