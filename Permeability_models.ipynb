{
  "nbformat": 4,
  "nbformat_minor": 0,
  "metadata": {
    "colab": {
      "name": "Permeability_models.ipynb",
      "provenance": [],
      "collapsed_sections": [],
      "authorship_tag": "ABX9TyNTtOIPyIGlvn9XNuWu06q7",
      "include_colab_link": true
    },
    "kernelspec": {
      "name": "python3",
      "display_name": "Python 3"
    },
    "language_info": {
      "name": "python"
    }
  },
  "cells": [
    {
      "cell_type": "markdown",
      "metadata": {
        "id": "view-in-github",
        "colab_type": "text"
      },
      "source": [
        "<a href=\"https://colab.research.google.com/github/Nikshit-Vora/Data-Analysis---Petroleum-Tech./blob/main/Permeability_models.ipynb\" target=\"_parent\"><img src=\"https://colab.research.google.com/assets/colab-badge.svg\" alt=\"Open In Colab\"/></a>"
      ]
    },
    {
      "cell_type": "markdown",
      "metadata": {
        "id": "MWEUDZceXitO"
      },
      "source": [
        "# 1) Willy and Gardner methode for unconsolidated and well sorted sand"
      ]
    },
    {
      "cell_type": "code",
      "metadata": {
        "id": "X_2Q-04wX1YY"
      },
      "source": [
        "import numpy as np\n",
        "import pandas as pd\n",
        "import matplotlib.pyplot as plt"
      ],
      "execution_count": 1,
      "outputs": []
    },
    {
      "cell_type": "code",
      "metadata": {
        "id": "3qiWqYi4YO1Y"
      },
      "source": [
        "sw = np.linspace(0.25,0.70,10)\n",
        "\n",
        "swc = 0.25\n",
        "soc = 0.3\n",
        "sgc = 0.05"
      ],
      "execution_count": 8,
      "outputs": []
    },
    {
      "cell_type": "code",
      "metadata": {
        "id": "7taue4KRYjs4"
      },
      "source": [
        "df_1 = pd.DataFrame(sw,columns=[\"sw\"])"
      ],
      "execution_count": 9,
      "outputs": []
    },
    {
      "cell_type": "code",
      "metadata": {
        "colab": {
          "base_uri": "https://localhost:8080/",
          "height": 342
        },
        "id": "mm3N3_YYY28v",
        "outputId": "2df22c15-d758-43e5-ec4b-656f920554a2"
      },
      "source": [
        "df_1"
      ],
      "execution_count": 10,
      "outputs": [
        {
          "output_type": "execute_result",
          "data": {
            "text/html": [
              "<div>\n",
              "<style scoped>\n",
              "    .dataframe tbody tr th:only-of-type {\n",
              "        vertical-align: middle;\n",
              "    }\n",
              "\n",
              "    .dataframe tbody tr th {\n",
              "        vertical-align: top;\n",
              "    }\n",
              "\n",
              "    .dataframe thead th {\n",
              "        text-align: right;\n",
              "    }\n",
              "</style>\n",
              "<table border=\"1\" class=\"dataframe\">\n",
              "  <thead>\n",
              "    <tr style=\"text-align: right;\">\n",
              "      <th></th>\n",
              "      <th>sw</th>\n",
              "    </tr>\n",
              "  </thead>\n",
              "  <tbody>\n",
              "    <tr>\n",
              "      <th>0</th>\n",
              "      <td>0.25</td>\n",
              "    </tr>\n",
              "    <tr>\n",
              "      <th>1</th>\n",
              "      <td>0.30</td>\n",
              "    </tr>\n",
              "    <tr>\n",
              "      <th>2</th>\n",
              "      <td>0.35</td>\n",
              "    </tr>\n",
              "    <tr>\n",
              "      <th>3</th>\n",
              "      <td>0.40</td>\n",
              "    </tr>\n",
              "    <tr>\n",
              "      <th>4</th>\n",
              "      <td>0.45</td>\n",
              "    </tr>\n",
              "    <tr>\n",
              "      <th>5</th>\n",
              "      <td>0.50</td>\n",
              "    </tr>\n",
              "    <tr>\n",
              "      <th>6</th>\n",
              "      <td>0.55</td>\n",
              "    </tr>\n",
              "    <tr>\n",
              "      <th>7</th>\n",
              "      <td>0.60</td>\n",
              "    </tr>\n",
              "    <tr>\n",
              "      <th>8</th>\n",
              "      <td>0.65</td>\n",
              "    </tr>\n",
              "    <tr>\n",
              "      <th>9</th>\n",
              "      <td>0.70</td>\n",
              "    </tr>\n",
              "  </tbody>\n",
              "</table>\n",
              "</div>"
            ],
            "text/plain": [
              "     sw\n",
              "0  0.25\n",
              "1  0.30\n",
              "2  0.35\n",
              "3  0.40\n",
              "4  0.45\n",
              "5  0.50\n",
              "6  0.55\n",
              "7  0.60\n",
              "8  0.65\n",
              "9  0.70"
            ]
          },
          "metadata": {
            "tags": []
          },
          "execution_count": 10
        }
      ]
    },
    {
      "cell_type": "markdown",
      "metadata": {
        "id": "oQZCBcLFZmnR"
      },
      "source": [
        "# sw = water saturation\n",
        "\n",
        "# sw* = (sw - swc)/(1 - swc)                                                        \n",
        "# kro = (1 - sw**)^3                                                              \n",
        "# krw = (sw*)^3"
      ]
    },
    {
      "cell_type": "code",
      "metadata": {
        "id": "CC-i0yIzZBp5"
      },
      "source": [
        "df_1[\"sw*\"] = (df_1[\"sw\"] - swc)/(1-swc)\n",
        "\n",
        "df_1['kro'] = (1 - df_1[\"sw*\"])**3\n",
        "\n",
        "df_1['krw'] = (df_1['sw*'])**3"
      ],
      "execution_count": 11,
      "outputs": []
    },
    {
      "cell_type": "code",
      "metadata": {
        "colab": {
          "base_uri": "https://localhost:8080/",
          "height": 342
        },
        "id": "ZBZkVn0_a6EJ",
        "outputId": "44d79be0-b6e7-495c-9deb-fdba1871ae1a"
      },
      "source": [
        "df_1"
      ],
      "execution_count": 12,
      "outputs": [
        {
          "output_type": "execute_result",
          "data": {
            "text/html": [
              "<div>\n",
              "<style scoped>\n",
              "    .dataframe tbody tr th:only-of-type {\n",
              "        vertical-align: middle;\n",
              "    }\n",
              "\n",
              "    .dataframe tbody tr th {\n",
              "        vertical-align: top;\n",
              "    }\n",
              "\n",
              "    .dataframe thead th {\n",
              "        text-align: right;\n",
              "    }\n",
              "</style>\n",
              "<table border=\"1\" class=\"dataframe\">\n",
              "  <thead>\n",
              "    <tr style=\"text-align: right;\">\n",
              "      <th></th>\n",
              "      <th>sw</th>\n",
              "      <th>sw*</th>\n",
              "      <th>kro</th>\n",
              "      <th>krw</th>\n",
              "    </tr>\n",
              "  </thead>\n",
              "  <tbody>\n",
              "    <tr>\n",
              "      <th>0</th>\n",
              "      <td>0.25</td>\n",
              "      <td>0.000000</td>\n",
              "      <td>1.000000</td>\n",
              "      <td>0.000000</td>\n",
              "    </tr>\n",
              "    <tr>\n",
              "      <th>1</th>\n",
              "      <td>0.30</td>\n",
              "      <td>0.066667</td>\n",
              "      <td>0.813037</td>\n",
              "      <td>0.000296</td>\n",
              "    </tr>\n",
              "    <tr>\n",
              "      <th>2</th>\n",
              "      <td>0.35</td>\n",
              "      <td>0.133333</td>\n",
              "      <td>0.650963</td>\n",
              "      <td>0.002370</td>\n",
              "    </tr>\n",
              "    <tr>\n",
              "      <th>3</th>\n",
              "      <td>0.40</td>\n",
              "      <td>0.200000</td>\n",
              "      <td>0.512000</td>\n",
              "      <td>0.008000</td>\n",
              "    </tr>\n",
              "    <tr>\n",
              "      <th>4</th>\n",
              "      <td>0.45</td>\n",
              "      <td>0.266667</td>\n",
              "      <td>0.394370</td>\n",
              "      <td>0.018963</td>\n",
              "    </tr>\n",
              "    <tr>\n",
              "      <th>5</th>\n",
              "      <td>0.50</td>\n",
              "      <td>0.333333</td>\n",
              "      <td>0.296296</td>\n",
              "      <td>0.037037</td>\n",
              "    </tr>\n",
              "    <tr>\n",
              "      <th>6</th>\n",
              "      <td>0.55</td>\n",
              "      <td>0.400000</td>\n",
              "      <td>0.216000</td>\n",
              "      <td>0.064000</td>\n",
              "    </tr>\n",
              "    <tr>\n",
              "      <th>7</th>\n",
              "      <td>0.60</td>\n",
              "      <td>0.466667</td>\n",
              "      <td>0.151704</td>\n",
              "      <td>0.101630</td>\n",
              "    </tr>\n",
              "    <tr>\n",
              "      <th>8</th>\n",
              "      <td>0.65</td>\n",
              "      <td>0.533333</td>\n",
              "      <td>0.101630</td>\n",
              "      <td>0.151704</td>\n",
              "    </tr>\n",
              "    <tr>\n",
              "      <th>9</th>\n",
              "      <td>0.70</td>\n",
              "      <td>0.600000</td>\n",
              "      <td>0.064000</td>\n",
              "      <td>0.216000</td>\n",
              "    </tr>\n",
              "  </tbody>\n",
              "</table>\n",
              "</div>"
            ],
            "text/plain": [
              "     sw       sw*       kro       krw\n",
              "0  0.25  0.000000  1.000000  0.000000\n",
              "1  0.30  0.066667  0.813037  0.000296\n",
              "2  0.35  0.133333  0.650963  0.002370\n",
              "3  0.40  0.200000  0.512000  0.008000\n",
              "4  0.45  0.266667  0.394370  0.018963\n",
              "5  0.50  0.333333  0.296296  0.037037\n",
              "6  0.55  0.400000  0.216000  0.064000\n",
              "7  0.60  0.466667  0.151704  0.101630\n",
              "8  0.65  0.533333  0.101630  0.151704\n",
              "9  0.70  0.600000  0.064000  0.216000"
            ]
          },
          "metadata": {
            "tags": []
          },
          "execution_count": 12
        }
      ]
    },
    {
      "cell_type": "code",
      "metadata": {
        "colab": {
          "base_uri": "https://localhost:8080/",
          "height": 471
        },
        "id": "iPczyj03a7xV",
        "outputId": "49bd1548-ec20-4356-8b60-8436534bc8b1"
      },
      "source": [
        "plt.style.use(\"default\")\n",
        "\n",
        "plt.plot(df_1['sw'],df_1['kro'],label=\"kro\", linewidth=2, marker=\"o\",mec=\"black\")\n",
        "plt.plot(df_1['sw'],df_1['krw'], label=\"krw\",linewidth=2, marker='o',mec=\"black\")\n",
        "\n",
        "plt.xlabel(\"sw (fraction)\")\n",
        "plt.ylabel(\"k value (md)\")\n",
        "\n",
        "plt.title(\"Willi_Gardner K model\")\n",
        "\n",
        "plt.grid()\n",
        "plt.legend()\n",
        "plt.show()"
      ],
      "execution_count": 47,
      "outputs": [
        {
          "output_type": "display_data",
          "data": {
            "image/png": "[encoded data removed]",
            "text/plain": [
              "<Figure size 640x480 with 1 Axes>"
            ]
          },
          "metadata": {
            "tags": []
          }
        }
      ]
    },
    {
      "cell_type": "markdown",
      "metadata": {
        "id": "D4Cu3iThc28I"
      },
      "source": [
        "# 2) Pirson's model\n",
        "\n",
        "# sw* = (sw - swc)/(1 - swc)\n",
        "# krw = ((sw*)^0.5) * sw^3\n",
        "# kro = (1 - (sw star*)) * [(1 - (sw*)^0.25)^0.5] * sw^0.5"
      ]
    },
    {
      "cell_type": "code",
      "metadata": {
        "id": "G32DIWu2cMCC"
      },
      "source": [
        "df_2 = pd.DataFrame(sw,columns=['sw'])"
      ],
      "execution_count": 19,
      "outputs": []
    },
    {
      "cell_type": "code",
      "metadata": {
        "colab": {
          "base_uri": "https://localhost:8080/",
          "height": 342
        },
        "id": "lbbMVFfOenAR",
        "outputId": "e44286b4-2727-4610-8420-c55567fa99d7"
      },
      "source": [
        "df_2"
      ],
      "execution_count": 20,
      "outputs": [
        {
          "output_type": "execute_result",
          "data": {
            "text/html": [
              "<div>\n",
              "<style scoped>\n",
              "    .dataframe tbody tr th:only-of-type {\n",
              "        vertical-align: middle;\n",
              "    }\n",
              "\n",
              "    .dataframe tbody tr th {\n",
              "        vertical-align: top;\n",
              "    }\n",
              "\n",
              "    .dataframe thead th {\n",
              "        text-align: right;\n",
              "    }\n",
              "</style>\n",
              "<table border=\"1\" class=\"dataframe\">\n",
              "  <thead>\n",
              "    <tr style=\"text-align: right;\">\n",
              "      <th></th>\n",
              "      <th>sw</th>\n",
              "    </tr>\n",
              "  </thead>\n",
              "  <tbody>\n",
              "    <tr>\n",
              "      <th>0</th>\n",
              "      <td>0.25</td>\n",
              "    </tr>\n",
              "    <tr>\n",
              "      <th>1</th>\n",
              "      <td>0.30</td>\n",
              "    </tr>\n",
              "    <tr>\n",
              "      <th>2</th>\n",
              "      <td>0.35</td>\n",
              "    </tr>\n",
              "    <tr>\n",
              "      <th>3</th>\n",
              "      <td>0.40</td>\n",
              "    </tr>\n",
              "    <tr>\n",
              "      <th>4</th>\n",
              "      <td>0.45</td>\n",
              "    </tr>\n",
              "    <tr>\n",
              "      <th>5</th>\n",
              "      <td>0.50</td>\n",
              "    </tr>\n",
              "    <tr>\n",
              "      <th>6</th>\n",
              "      <td>0.55</td>\n",
              "    </tr>\n",
              "    <tr>\n",
              "      <th>7</th>\n",
              "      <td>0.60</td>\n",
              "    </tr>\n",
              "    <tr>\n",
              "      <th>8</th>\n",
              "      <td>0.65</td>\n",
              "    </tr>\n",
              "    <tr>\n",
              "      <th>9</th>\n",
              "      <td>0.70</td>\n",
              "    </tr>\n",
              "  </tbody>\n",
              "</table>\n",
              "</div>"
            ],
            "text/plain": [
              "     sw\n",
              "0  0.25\n",
              "1  0.30\n",
              "2  0.35\n",
              "3  0.40\n",
              "4  0.45\n",
              "5  0.50\n",
              "6  0.55\n",
              "7  0.60\n",
              "8  0.65\n",
              "9  0.70"
            ]
          },
          "metadata": {
            "tags": []
          },
          "execution_count": 20
        }
      ]
    },
    {
      "cell_type": "code",
      "metadata": {
        "id": "abowYpgZerVH"
      },
      "source": [
        "df_2['sw*'] = (df_2['sw'] - swc)/(1 - swc)\n",
        "\n",
        "df_2['krw'] = np.sqrt(df_2['sw*'])*(df_2['sw'])**3\n",
        "\n",
        "df_2['kro'] = (1 - df_2['sw*'])*((1 - (df_2['sw*'])**0.25)**0.5)*((df_2['sw'])**0.5)\n",
        "\n"
      ],
      "execution_count": 39,
      "outputs": []
    },
    {
      "cell_type": "code",
      "metadata": {
        "colab": {
          "base_uri": "https://localhost:8080/",
          "height": 342
        },
        "id": "TrfU1lPPgRm8",
        "outputId": "4fde6b56-fdd9-4743-b6c6-80026e8038bd"
      },
      "source": [
        "df_2"
      ],
      "execution_count": 40,
      "outputs": [
        {
          "output_type": "execute_result",
          "data": {
            "text/html": [
              "<div>\n",
              "<style scoped>\n",
              "    .dataframe tbody tr th:only-of-type {\n",
              "        vertical-align: middle;\n",
              "    }\n",
              "\n",
              "    .dataframe tbody tr th {\n",
              "        vertical-align: top;\n",
              "    }\n",
              "\n",
              "    .dataframe thead th {\n",
              "        text-align: right;\n",
              "    }\n",
              "</style>\n",
              "<table border=\"1\" class=\"dataframe\">\n",
              "  <thead>\n",
              "    <tr style=\"text-align: right;\">\n",
              "      <th></th>\n",
              "      <th>sw</th>\n",
              "      <th>sw*</th>\n",
              "      <th>krw</th>\n",
              "      <th>kro</th>\n",
              "    </tr>\n",
              "  </thead>\n",
              "  <tbody>\n",
              "    <tr>\n",
              "      <th>0</th>\n",
              "      <td>0.25</td>\n",
              "      <td>0.000000</td>\n",
              "      <td>0.000000</td>\n",
              "      <td>0.500000</td>\n",
              "    </tr>\n",
              "    <tr>\n",
              "      <th>1</th>\n",
              "      <td>0.30</td>\n",
              "      <td>0.066667</td>\n",
              "      <td>0.006971</td>\n",
              "      <td>0.358527</td>\n",
              "    </tr>\n",
              "    <tr>\n",
              "      <th>2</th>\n",
              "      <td>0.35</td>\n",
              "      <td>0.133333</td>\n",
              "      <td>0.015656</td>\n",
              "      <td>0.322539</td>\n",
              "    </tr>\n",
              "    <tr>\n",
              "      <th>3</th>\n",
              "      <td>0.40</td>\n",
              "      <td>0.200000</td>\n",
              "      <td>0.028622</td>\n",
              "      <td>0.291209</td>\n",
              "    </tr>\n",
              "    <tr>\n",
              "      <th>4</th>\n",
              "      <td>0.45</td>\n",
              "      <td>0.266667</td>\n",
              "      <td>0.047057</td>\n",
              "      <td>0.260954</td>\n",
              "    </tr>\n",
              "    <tr>\n",
              "      <th>5</th>\n",
              "      <td>0.50</td>\n",
              "      <td>0.333333</td>\n",
              "      <td>0.072169</td>\n",
              "      <td>0.231019</td>\n",
              "    </tr>\n",
              "    <tr>\n",
              "      <th>6</th>\n",
              "      <td>0.55</td>\n",
              "      <td>0.400000</td>\n",
              "      <td>0.105225</td>\n",
              "      <td>0.201337</td>\n",
              "    </tr>\n",
              "    <tr>\n",
              "      <th>7</th>\n",
              "      <td>0.60</td>\n",
              "      <td>0.466667</td>\n",
              "      <td>0.147556</td>\n",
              "      <td>0.172069</td>\n",
              "    </tr>\n",
              "    <tr>\n",
              "      <th>8</th>\n",
              "      <td>0.65</td>\n",
              "      <td>0.533333</td>\n",
              "      <td>0.200558</td>\n",
              "      <td>0.143478</td>\n",
              "    </tr>\n",
              "    <tr>\n",
              "      <th>9</th>\n",
              "      <td>0.70</td>\n",
              "      <td>0.600000</td>\n",
              "      <td>0.265687</td>\n",
              "      <td>0.115877</td>\n",
              "    </tr>\n",
              "  </tbody>\n",
              "</table>\n",
              "</div>"
            ],
            "text/plain": [
              "     sw       sw*       krw       kro\n",
              "0  0.25  0.000000  0.000000  0.500000\n",
              "1  0.30  0.066667  0.006971  0.358527\n",
              "2  0.35  0.133333  0.015656  0.322539\n",
              "3  0.40  0.200000  0.028622  0.291209\n",
              "4  0.45  0.266667  0.047057  0.260954\n",
              "5  0.50  0.333333  0.072169  0.231019\n",
              "6  0.55  0.400000  0.105225  0.201337\n",
              "7  0.60  0.466667  0.147556  0.172069\n",
              "8  0.65  0.533333  0.200558  0.143478\n",
              "9  0.70  0.600000  0.265687  0.115877"
            ]
          },
          "metadata": {
            "tags": []
          },
          "execution_count": 40
        }
      ]
    },
    {
      "cell_type": "code",
      "metadata": {
        "colab": {
          "base_uri": "https://localhost:8080/",
          "height": 471
        },
        "id": "kn3V7ltZgdo0",
        "outputId": "c23f7078-b008-410e-b31f-e97a8dda5e82"
      },
      "source": [
        "plt.style.use(\"default\")\n",
        "\n",
        "plt.plot(df_2['sw'],df_2['kro'],label=\"kro\", linewidth=2.9, marker=\"o\",ms=7,mec=\"black\")\n",
        "plt.plot(df_2['sw'],df_2['krw'], label=\"krw\",linewidth=2.9, marker='o',ms=7,mec=\"black\")\n",
        "\n",
        "plt.xlabel(\"sw (fraction)\")\n",
        "plt.ylabel(\"k value (md)\")\n",
        "\n",
        "plt.title(\"Pirsons K model\")\n",
        "\n",
        "plt.grid()\n",
        "plt.legend()\n",
        "plt.show()"
      ],
      "execution_count": 50,
      "outputs": [
        {
          "output_type": "display_data",
          "data": {
            "image/png": "[encoded data removed]",
            "text/plain": [
              "<Figure size 640x480 with 1 Axes>"
            ]
          },
          "metadata": {
            "tags": []
          }
        }
      ]
    },
    {
      "cell_type": "markdown",
      "metadata": {
        "id": "aFXx-g8pkcWS"
      },
      "source": [
        "# 3) Brooke - Corey Model for Gas-oil k curve"
      ]
    },
    {
      "cell_type": "code",
      "metadata": {
        "id": "ChShs-oejanu"
      },
      "source": [
        "sg=np.linspace(0.05,0.70,10)\n",
        "\n",
        "swc = 0.25"
      ],
      "execution_count": 51,
      "outputs": []
    },
    {
      "cell_type": "markdown",
      "metadata": {
        "id": "9YUiViYXlKTx"
      },
      "source": [
        "# sg* = sg/(1 - swc)\n",
        "# kro = (1 - sg*)^4\n",
        "# krg = ((sg*)^3) * (2 - sg_star)"
      ]
    },
    {
      "cell_type": "code",
      "metadata": {
        "id": "uXLy-s1ilA0V"
      },
      "source": [
        "df_3 = pd.DataFrame(sg,columns=['sg'])"
      ],
      "execution_count": 54,
      "outputs": []
    },
    {
      "cell_type": "code",
      "metadata": {
        "colab": {
          "base_uri": "https://localhost:8080/",
          "height": 342
        },
        "id": "-3vL1sG0l6Bg",
        "outputId": "bbc5cfd3-2d5f-42f6-fc50-426ec9f52132"
      },
      "source": [
        "df_3"
      ],
      "execution_count": 55,
      "outputs": [
        {
          "output_type": "execute_result",
          "data": {
            "text/html": [
              "<div>\n",
              "<style scoped>\n",
              "    .dataframe tbody tr th:only-of-type {\n",
              "        vertical-align: middle;\n",
              "    }\n",
              "\n",
              "    .dataframe tbody tr th {\n",
              "        vertical-align: top;\n",
              "    }\n",
              "\n",
              "    .dataframe thead th {\n",
              "        text-align: right;\n",
              "    }\n",
              "</style>\n",
              "<table border=\"1\" class=\"dataframe\">\n",
              "  <thead>\n",
              "    <tr style=\"text-align: right;\">\n",
              "      <th></th>\n",
              "      <th>sg</th>\n",
              "    </tr>\n",
              "  </thead>\n",
              "  <tbody>\n",
              "    <tr>\n",
              "      <th>0</th>\n",
              "      <td>0.050000</td>\n",
              "    </tr>\n",
              "    <tr>\n",
              "      <th>1</th>\n",
              "      <td>0.122222</td>\n",
              "    </tr>\n",
              "    <tr>\n",
              "      <th>2</th>\n",
              "      <td>0.194444</td>\n",
              "    </tr>\n",
              "    <tr>\n",
              "      <th>3</th>\n",
              "      <td>0.266667</td>\n",
              "    </tr>\n",
              "    <tr>\n",
              "      <th>4</th>\n",
              "      <td>0.338889</td>\n",
              "    </tr>\n",
              "    <tr>\n",
              "      <th>5</th>\n",
              "      <td>0.411111</td>\n",
              "    </tr>\n",
              "    <tr>\n",
              "      <th>6</th>\n",
              "      <td>0.483333</td>\n",
              "    </tr>\n",
              "    <tr>\n",
              "      <th>7</th>\n",
              "      <td>0.555556</td>\n",
              "    </tr>\n",
              "    <tr>\n",
              "      <th>8</th>\n",
              "      <td>0.627778</td>\n",
              "    </tr>\n",
              "    <tr>\n",
              "      <th>9</th>\n",
              "      <td>0.700000</td>\n",
              "    </tr>\n",
              "  </tbody>\n",
              "</table>\n",
              "</div>"
            ],
            "text/plain": [
              "         sg\n",
              "0  0.050000\n",
              "1  0.122222\n",
              "2  0.194444\n",
              "3  0.266667\n",
              "4  0.338889\n",
              "5  0.411111\n",
              "6  0.483333\n",
              "7  0.555556\n",
              "8  0.627778\n",
              "9  0.700000"
            ]
          },
          "metadata": {
            "tags": []
          },
          "execution_count": 55
        }
      ]
    },
    {
      "cell_type": "code",
      "metadata": {
        "id": "K9JT0MfBmBU9"
      },
      "source": [
        "df_3['sg*'] = df_3['sg']/(1 - swc)\n",
        "\n",
        "df_3['kro'] = (1 - df_3['sg*'])**4\n",
        "\n",
        "df_3['krg'] = ((df_3['sg*'])**3) * (2 - df_3['sg*'])"
      ],
      "execution_count": 56,
      "outputs": []
    },
    {
      "cell_type": "code",
      "metadata": {
        "colab": {
          "base_uri": "https://localhost:8080/",
          "height": 342
        },
        "id": "V_DsM9gQm2Rk",
        "outputId": "2999b43e-0d3a-430c-ad51-0ed54917b048"
      },
      "source": [
        "df_3"
      ],
      "execution_count": 57,
      "outputs": [
        {
          "output_type": "execute_result",
          "data": {
            "text/html": [
              "<div>\n",
              "<style scoped>\n",
              "    .dataframe tbody tr th:only-of-type {\n",
              "        vertical-align: middle;\n",
              "    }\n",
              "\n",
              "    .dataframe tbody tr th {\n",
              "        vertical-align: top;\n",
              "    }\n",
              "\n",
              "    .dataframe thead th {\n",
              "        text-align: right;\n",
              "    }\n",
              "</style>\n",
              "<table border=\"1\" class=\"dataframe\">\n",
              "  <thead>\n",
              "    <tr style=\"text-align: right;\">\n",
              "      <th></th>\n",
              "      <th>sg</th>\n",
              "      <th>sg*</th>\n",
              "      <th>kro</th>\n",
              "      <th>krg</th>\n",
              "    </tr>\n",
              "  </thead>\n",
              "  <tbody>\n",
              "    <tr>\n",
              "      <th>0</th>\n",
              "      <td>0.050000</td>\n",
              "      <td>0.066667</td>\n",
              "      <td>0.758835</td>\n",
              "      <td>0.000573</td>\n",
              "    </tr>\n",
              "    <tr>\n",
              "      <th>1</th>\n",
              "      <td>0.122222</td>\n",
              "      <td>0.162963</td>\n",
              "      <td>0.490884</td>\n",
              "      <td>0.007950</td>\n",
              "    </tr>\n",
              "    <tr>\n",
              "      <th>2</th>\n",
              "      <td>0.194444</td>\n",
              "      <td>0.259259</td>\n",
              "      <td>0.301068</td>\n",
              "      <td>0.030335</td>\n",
              "    </tr>\n",
              "    <tr>\n",
              "      <th>3</th>\n",
              "      <td>0.266667</td>\n",
              "      <td>0.355556</td>\n",
              "      <td>0.172481</td>\n",
              "      <td>0.073917</td>\n",
              "    </tr>\n",
              "    <tr>\n",
              "      <th>4</th>\n",
              "      <td>0.338889</td>\n",
              "      <td>0.451852</td>\n",
              "      <td>0.090280</td>\n",
              "      <td>0.142824</td>\n",
              "    </tr>\n",
              "    <tr>\n",
              "      <th>5</th>\n",
              "      <td>0.411111</td>\n",
              "      <td>0.548148</td>\n",
              "      <td>0.041685</td>\n",
              "      <td>0.239120</td>\n",
              "    </tr>\n",
              "    <tr>\n",
              "      <th>6</th>\n",
              "      <td>0.483333</td>\n",
              "      <td>0.644444</td>\n",
              "      <td>0.015982</td>\n",
              "      <td>0.362805</td>\n",
              "    </tr>\n",
              "    <tr>\n",
              "      <th>7</th>\n",
              "      <td>0.555556</td>\n",
              "      <td>0.740741</td>\n",
              "      <td>0.004518</td>\n",
              "      <td>0.511816</td>\n",
              "    </tr>\n",
              "    <tr>\n",
              "      <th>8</th>\n",
              "      <td>0.627778</td>\n",
              "      <td>0.837037</td>\n",
              "      <td>0.000705</td>\n",
              "      <td>0.682024</td>\n",
              "    </tr>\n",
              "    <tr>\n",
              "      <th>9</th>\n",
              "      <td>0.700000</td>\n",
              "      <td>0.933333</td>\n",
              "      <td>0.000020</td>\n",
              "      <td>0.867240</td>\n",
              "    </tr>\n",
              "  </tbody>\n",
              "</table>\n",
              "</div>"
            ],
            "text/plain": [
              "         sg       sg*       kro       krg\n",
              "0  0.050000  0.066667  0.758835  0.000573\n",
              "1  0.122222  0.162963  0.490884  0.007950\n",
              "2  0.194444  0.259259  0.301068  0.030335\n",
              "3  0.266667  0.355556  0.172481  0.073917\n",
              "4  0.338889  0.451852  0.090280  0.142824\n",
              "5  0.411111  0.548148  0.041685  0.239120\n",
              "6  0.483333  0.644444  0.015982  0.362805\n",
              "7  0.555556  0.740741  0.004518  0.511816\n",
              "8  0.627778  0.837037  0.000705  0.682024\n",
              "9  0.700000  0.933333  0.000020  0.867240"
            ]
          },
          "metadata": {
            "tags": []
          },
          "execution_count": 57
        }
      ]
    },
    {
      "cell_type": "code",
      "metadata": {
        "colab": {
          "base_uri": "https://localhost:8080/",
          "height": 488
        },
        "id": "Ylbj1NOlm3d3",
        "outputId": "0bd27cf2-53dd-47e3-eee5-925838434b90"
      },
      "source": [
        "plt.style.use('default')\n",
        "\n",
        "plt.plot(df_3['sg'],df_3['kro'], label='kro',marker='o',mec='black',ms='7')\n",
        "plt.plot(df_3['sg'],df_3['krg'], label='krg',marker='o',mec='black',ms='7')\n",
        "\n",
        "plt.xlabel(\"sw (fraction)\")\n",
        "plt.ylabel('k value (md)')\n",
        "\n",
        "plt.title('Brooke - Corey K model')\n",
        "plt.legend()\n",
        "plt.grid()\n",
        "plt.show"
      ],
      "execution_count": 60,
      "outputs": [
        {
          "output_type": "execute_result",
          "data": {
            "text/plain": [
              "<function matplotlib.pyplot.show>"
            ]
          },
          "metadata": {
            "tags": []
          },
          "execution_count": 60
        },
        {
          "output_type": "display_data",
          "data": {
            "image/png": "[encoded data removed]",
            "text/plain": [
              "<Figure size 640x480 with 1 Axes>"
            ]
          },
          "metadata": {
            "tags": []
          }
        }
      ]
    },
    {
      "cell_type": "code",
      "metadata": {
        "id": "yw4PhCPhn5wM"
      },
      "source": [
        ""
      ],
      "execution_count": null,
      "outputs": []
    }
  ]
}