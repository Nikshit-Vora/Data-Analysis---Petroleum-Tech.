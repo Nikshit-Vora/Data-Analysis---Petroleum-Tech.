{
  "nbformat": 4,
  "nbformat_minor": 0,
  "metadata": {
    "colab": {
      "name": "Oil_classification.ipynb",
      "provenance": [],
      "collapsed_sections": [],
      "authorship_tag": "ABX9TyOWi0LV6b7a/RJKMofomvct",
      "include_colab_link": true
    },
    "kernelspec": {
      "name": "python3",
      "display_name": "Python 3"
    },
    "language_info": {
      "name": "python"
    }
  },
  "cells": [
    {
      "cell_type": "markdown",
      "metadata": {
        "id": "view-in-github",
        "colab_type": "text"
      },
      "source": [
        "<a href=\"https://colab.research.google.com/github/Nikshit-Vora/Data-Analysis---Petroleum-Tech./blob/main/Oil_classification.ipynb\" target=\"_parent\"><img src=\"https://colab.research.google.com/assets/colab-badge.svg\" alt=\"Open In Colab\"/></a>"
      ]
    },
    {
      "cell_type": "code",
      "metadata": {
        "colab": {
          "base_uri": "https://localhost:8080/"
        },
        "id": "ilqwJzF8qTPH",
        "outputId": "1ed6250a-2f6c-4ebf-a94c-6028c7824e00"
      },
      "source": [
        "API_Gravity = float(input(\"enter the value of API Gravity:\"))\n",
        "Bo = float(input(\"enter the  value of Bo (bbl/STB) :\"))\n",
        "GOR = float(input(\"enter the  value of Gas-Oil-Ratio (SCF/STB) :\"))\n",
        "\n",
        "print(f\"\\nproperties of crude oil \\ngravity:{API_Gravity} API, \\nFormation volume factor: {Bo} bbl/STB, \\nGas Oil Ratio: {GOR} SCF/STB\")\n",
        "\n",
        "if 15 < API_Gravity < 40 and Bo > 1.2 and 200 < GOR < 700:\n",
        "  print(\"\\nType of Crude oil: 'Ordinary crude oil'\")\n",
        "\n",
        "elif  API_Gravity < 35 and  Bo < 1.2 and GOR <= 200:\n",
        "  print(\"\\nType of Crude oil: 'Low Shrinkage crude oil'\")\n",
        "\n",
        "elif 45 <= API_Gravity <55 and  Bo < 2 and 2000 <= GOR < 3000:\n",
        "  print(\"\\nType of Crude oil: 'High Shrinkage crude oil (Volatile oil)'\")\n",
        "\n",
        "elif 50 <= API_Gravity < 55 and Bo > 2 and GOR > 3000:\n",
        "  print(\"\\nType of Crude oil: 'Near Critical crude oil\")\n",
        "\n",
        "elif  API_Gravity > 50 and Bo > 1.2 and 8000 < GOR < 70000:\n",
        "  print(\"\\nType of Crude oil: 'Retrograde gas Condensate\")\n",
        "\n",
        "elif API_Gravity > 60 and Bo > 1.2 and 60000 < GOR < 100000:\n",
        "  print(\"\\nType of gas: 'Wet Gas\")\n",
        "\n",
        "elif API_Gravity > 60 and Bo > 1.2 and  GOR >= 100000:\n",
        "  print(\"\\nType of gas: 'Dry Gas\")\n",
        "\n",
        "else:\n",
        "  print(\"\\nenter the value in the appropriate range.\")"
      ],
      "execution_count": 21,
      "outputs": [
        {
          "output_type": "stream",
          "text": [
            "enter the value of API Gravity:100\n",
            "enter the  value of Bo (bbl/STB) :10\n",
            "enter the  value of Gas-Oil-Ratio (SCF/STB) :1000000\n",
            "\n",
            "properties of crude oil \n",
            "gravity:100.0 API, \n",
            "Formation volume factor: 10.0 bbl/STB, \n",
            "Gas Oil Ratio: 1000000.0 SCF/STB\n",
            "\n",
            "Type of gas: 'Dry Gas\n"
          ],
          "name": "stdout"
        }
      ]
    },
    {
      "cell_type": "code",
      "metadata": {
        "id": "olD3R05EtJCL"
      },
      "source": [
        ""
      ],
      "execution_count": null,
      "outputs": []
    }
  ]
}