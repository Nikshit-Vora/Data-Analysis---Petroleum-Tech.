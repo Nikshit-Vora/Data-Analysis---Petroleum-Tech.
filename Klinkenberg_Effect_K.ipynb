{
  "nbformat": 4,
  "nbformat_minor": 0,
  "metadata": {
    "colab": {
      "name": "Klinkenberg_Effect_K.ipynb",
      "provenance": [],
      "collapsed_sections": [],
      "authorship_tag": "ABX9TyO+SI5KOrhSn0jXE21fSXwe",
      "include_colab_link": true
    },
    "kernelspec": {
      "name": "python3",
      "display_name": "Python 3"
    },
    "language_info": {
      "name": "python"
    }
  },
  "cells": [
    {
      "cell_type": "markdown",
      "metadata": {
        "id": "view-in-github",
        "colab_type": "text"
      },
      "source": [
        "<a href=\"https://colab.research.google.com/github/Nikshit-Vora/Data-Analysis---Petroleum-Tech./blob/main/Klinkenberg_Effect_K.ipynb\" target=\"_parent\"><img src=\"https://colab.research.google.com/assets/colab-badge.svg\" alt=\"Open In Colab\"/></a>"
      ]
    },
    {
      "cell_type": "markdown",
      "metadata": {
        "id": "Nu_t5d-8ACkA"
      },
      "source": [
        "The permeability of a core plug is measured by air. Only one measurement is made at a mean pressure of 2.152 psi. The air permeability is 46.6 md. Estimate the absolute permeability of the core sample. Compare the result with the actual absolute permeability of 23.66 md."
      ]
    },
    {
      "cell_type": "code",
      "metadata": {
        "colab": {
          "base_uri": "https://localhost:8080/"
        },
        "id": "mSKhGks01wfV",
        "outputId": "6b9e7b04-edfd-4c1c-a0ea-c6f4452d12a1"
      },
      "source": [
        "k=float(input(\"enter the first guess of the permeability (kl):\"))\n",
        "pm=float(input(\"enter the mean pressure:\"))\n",
        "kg=float(input(\"enter the air permeability (kg):\"))\n",
        "\n",
        "# f(k= kl) = 6.9kL^(0.64) + pmkL - pm*kg = 0\n",
        "# f'(k) = 4.416 ki^(-0.36) + pm\n",
        "\n",
        "while abs(6.9*k**(0.64) + pm*k - pm*kg) > 0.001:\n",
        "  k = k - (6.9*k**(0.64) + pm*k - pm*kg)/(4.416*k**(-0.36) + pm)\n",
        "\n",
        "print(f\"the absolute permeability is : {k} mD\")"
      ],
      "execution_count": null,
      "outputs": [
        {
          "output_type": "stream",
          "text": [
            "enter the first guess of the permeability (kl):40\n",
            "enter the mean pressure:2.152\n",
            "enter the air permeability (kg):46.6\n",
            "the absolute permeability is : 22.849002275552976 mD\n"
          ],
          "name": "stdout"
        }
      ]
    }
  ]
}